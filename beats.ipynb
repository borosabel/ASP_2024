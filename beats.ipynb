{
 "cells": [
  {
   "cell_type": "code",
   "execution_count": 129,
   "id": "initial_id",
   "metadata": {
    "ExecuteTime": {
     "end_time": "2024-05-30T15:10:45.912951Z",
     "start_time": "2024-05-30T15:10:45.850601Z"
    },
    "collapsed": true
   },
   "outputs": [],
   "source": [
    "import utils as utils\n",
    "import importlib\n",
    "import numpy as np\n",
    "import mir_eval\n",
    "import data\n",
    "import pickle\n",
    "import librosa\n",
    "\n",
    "import torch as th\n",
    "import torch.nn as nn\n",
    "import torch.nn.functional as F\n",
    "\n",
    "from scipy.signal import find_peaks\n",
    "\n",
    "importlib.reload(utils)\n",
    "importlib.reload(data)\n",
    "\n",
    "train_dataset_path = './data/train'\n",
    "test_dataset_path = './data/test'\n",
    "\n",
    "device = 'cuda' if th.cuda.is_available() else 'cpu'"
   ]
  },
  {
   "cell_type": "code",
   "execution_count": 130,
   "id": "b8c18e722df1d707",
   "metadata": {
    "ExecuteTime": {
     "end_time": "2024-05-30T15:10:46.068414Z",
     "start_time": "2024-05-30T15:10:46.064959Z"
    },
    "collapsed": false
   },
   "outputs": [],
   "source": [
    "# Model descrbied in the paper plus droput\n",
    "class OnsetDetectionCNN(nn.Module):\n",
    "    def __init__(self):\n",
    "        super(OnsetDetectionCNN, self).__init__()\n",
    "        self.conv1 = nn.Conv2d(3, 10, kernel_size=(3, 7))\n",
    "        self.pool1 = nn.MaxPool2d(kernel_size=(3, 1))\n",
    "        self.conv2 = nn.Conv2d(10, 20, kernel_size=(3, 3))\n",
    "        self.pool2 = nn.MaxPool2d(kernel_size=(3, 1))\n",
    "        self.fc1 = nn.Linear(20 * 7 * 8, 256)\n",
    "        self.fc2 = nn.Linear(256, 1)\n",
    "        self.dropout = nn.Dropout(0.5)\n",
    "        self.sigmoid = nn.Sigmoid()\n",
    "\n",
    "    def forward(self, x):\n",
    "        x = self.pool1(F.relu(self.conv1(x)))\n",
    "        x = self.pool2(F.relu(self.conv2(x)))\n",
    "        x = x.view(-1, 20 * 7 * 8)\n",
    "        x = self.dropout(F.relu(self.fc1(x)))  # Apply dropout\n",
    "        x = self.sigmoid(self.fc2(x))\n",
    "        return x\n",
    "\n",
    "# Initialize the model\n",
    "model = OnsetDetectionCNN()"
   ]
  },
  {
   "cell_type": "code",
   "execution_count": 138,
   "id": "9e794905b16b20c5",
   "metadata": {
    "ExecuteTime": {
     "end_time": "2024-06-02T22:06:27.021326Z",
     "start_time": "2024-06-02T22:06:26.938357Z"
    },
    "collapsed": false
   },
   "outputs": [],
   "source": [
    "model.load_state_dict(th.load('best_model.pth'))\n",
    "with open('mean_std.pkl', 'rb') as file:\n",
    "    data = pickle.load(file)\n",
    "mean = data['mean']\n",
    "std = data['std']\n",
    "\n",
    "# This is the almost the same as the prediction function in the onset detection but here we just use the onset signal \n",
    "# and no prediction\n",
    "def raw_onset_signal(model, x, mean=mean, std=std, frame_size=15):\n",
    "    model = model.to(device)\n",
    "    model.eval()\n",
    "    x = x.to(device)\n",
    "    mean = mean.to(device)\n",
    "    std = std.to(device)\n",
    "    x = (x - mean) / std\n",
    "\n",
    "    half_frame_size = frame_size // 2\n",
    "    num_frames = x.shape[2]\n",
    "    onset_predictions = []\n",
    "\n",
    "    with th.no_grad():\n",
    "        for j in range(half_frame_size, num_frames - half_frame_size):\n",
    "            start = j - half_frame_size\n",
    "            end = j + half_frame_size + 1\n",
    "            input_frame = x[:, :, start:end].unsqueeze(0).float()\n",
    "            output = model(input_frame).squeeze().cpu().item()\n",
    "            onset_predictions.append(output)\n",
    "    onset_predictions = np.array(onset_predictions)\n",
    "    onset_signal = np.convolve(onset_predictions, np.hamming(10), mode='same')\n",
    "    return onset_signal\n",
    "\n",
    "def autocorrelate(signal, lag):\n",
    "    r = np.zeros(len(signal) - lag)\n",
    "    for t in range(len(signal) - lag):\n",
    "        r[t] = signal[t + lag] * signal[t]\n",
    "    return np.sum(r)\n",
    "\n",
    "def to_bpm(max_r):\n",
    "    return 60 * utils.SAMPLING_RATE / utils.HOP_LENGTH / (max_r + 25)\n",
    "\n",
    "def autocorrelate_tao(signal, min_tao=25, max_tao=87):\n",
    "    return np.array([autocorrelate(signal, tao) for tao in range(min_tao, max_tao)])\n",
    "\n",
    "def get_tempo(model, x, top_n=2):\n",
    "    onset_signal_res = raw_onset_signal(model, x)\n",
    "    taos = autocorrelate_tao(onset_signal_res)\n",
    "    peaks = find_peaks(taos)[0]\n",
    "    highest_peaks = np.argsort(-taos[peaks])[:top_n]\n",
    "\n",
    "    return list(reversed([to_bpm(r) for r in peaks[highest_peaks]]))"
   ]
  },
  {
   "cell_type": "code",
   "execution_count": 132,
   "id": "79ba2645",
   "metadata": {},
   "outputs": [],
   "source": [
    "def estimate_beats(onset_signal, tempo_bpm):\n",
    "    tempo_period = 60 / tempo_bpm * utils.SAMPLING_RATE / utils.HOP_LENGTH  # in frames\n",
    "    peak_indices = find_peaks(onset_signal, distance=tempo_period//2)[0]\n",
    "\n",
    "    # Find closest peaks to estimated tempo\n",
    "    beat_positions = []\n",
    "    current_position = peak_indices[0]\n",
    "    for peak in peak_indices:\n",
    "        if peak >= current_position:\n",
    "            beat_positions.append(peak)\n",
    "            current_position = peak + tempo_period\n",
    "\n",
    "    return np.array(beat_positions) * utils.HOP_LENGTH / utils.SAMPLING_RATE  # Convert to seconds\n"
   ]
  },
  {
   "cell_type": "code",
   "execution_count": 77,
   "id": "210c3760",
   "metadata": {},
   "outputs": [],
   "source": [
    "def custom_beat_tracking(spec, sample_rate, tempo_estimations):    \n",
    "    num_frames = spec.shape[-1]\n",
    "    duration = num_frames * utils.HOP_LENGTH / sample_rate\n",
    "\n",
    "    onset_signal = raw_onset_signal(model, spec)\n",
    "\n",
    "    # Calculate the average tempo if multiple tempo estimations are provided\n",
    "    if isinstance(tempo_estimations, (list, np.ndarray)):\n",
    "        tempo = np.mean(tempo_estimations)\n",
    "    else:\n",
    "        tempo = tempo_estimations\n",
    "\n",
    "    taos = autocorrelate_tao(onset_signal)\n",
    "    peaks = find_peaks(taos)[0]\n",
    "\n",
    "    # Convert peak indices to time\n",
    "    peak_times = librosa.frames_to_time(peaks, sr=sample_rate, hop_length=utils.HOP_LENGTH)\n",
    "        \n",
    "    # Initialize beat times list\n",
    "    beat_times = []\n",
    "\n",
    "    beat_interval = 60.0 / tempo\n",
    "\n",
    "    # Align detected peaks with expected beat intervals\n",
    "    for peak_time in peak_times:\n",
    "        current_beat_time = peak_time\n",
    "        while current_beat_time < duration:\n",
    "            beat_times.append(current_beat_time)\n",
    "            current_beat_time += beat_interval\n",
    "    \n",
    "    return np.array(beat_times)\n"
   ]
  },
  {
   "cell_type": "code",
   "execution_count": 134,
   "id": "cb3c6c9846eac955",
   "metadata": {
    "ExecuteTime": {
     "end_time": "2024-05-30T15:11:28.450118Z",
     "start_time": "2024-05-30T15:11:28.443393Z"
    },
    "collapsed": false
   },
   "outputs": [],
   "source": [
    "# Load the paths and then split them into train and test set (validation set in our case for now).\n",
    "wav_files_paths_train, _, _, tempo_files_paths_train = utils.load_dataset_paths(train_dataset_path, is_train_dataset=True)"
   ]
  },
  {
   "cell_type": "code",
   "execution_count": 135,
   "id": "fecd855076c30ddf",
   "metadata": {
    "ExecuteTime": {
     "end_time": "2024-05-30T15:11:36.747587Z",
     "start_time": "2024-05-30T15:11:35.184867Z"
    },
    "collapsed": false
   },
   "outputs": [
    {
     "name": "stderr",
     "output_type": "stream",
     "text": [
      "100%|██████████| 127/127 [00:04<00:00, 29.19it/s]\n"
     ]
    }
   ],
   "source": [
    "# Prepare train data\n",
    "features_train, sample_rates_train = utils.preprocess_audio(wav_files_paths_train)\n",
    "\n",
    "# tempo_train = utils.load_tempo_annotations_from_files(y_train_paths)"
   ]
  },
  {
   "cell_type": "code",
   "execution_count": 76,
   "id": "0ab1ab8d",
   "metadata": {},
   "outputs": [
    {
     "data": {
      "text/plain": [
       "648"
      ]
     },
     "execution_count": 76,
     "metadata": {},
     "output_type": "execute_result"
    }
   ],
   "source": [
    "# len(beat0)"
   ]
  },
  {
   "cell_type": "code",
   "execution_count": 136,
   "id": "373851ee",
   "metadata": {},
   "outputs": [],
   "source": [
    "onsets = [raw_onset_signal(model, x, mean, std) for x in features_train]"
   ]
  },
  {
   "cell_type": "code",
   "execution_count": null,
   "id": "8fc5fd5a87cb04a",
   "metadata": {
    "ExecuteTime": {
     "start_time": "2024-05-30T15:10:48.321257Z"
    },
    "collapsed": false
   },
   "outputs": [],
   "source": [
    "# Prepare test data (validation data in our case for now)\n",
    "# features_test, sample_rates_test = utils.preprocess_audio(X_test_paths)\n",
    "# tempo_test = utils.load_tempo_annotations_from_files(y_train_paths)"
   ]
  },
  {
   "cell_type": "code",
   "execution_count": 139,
   "id": "b97ca01d6321c9b7",
   "metadata": {
    "ExecuteTime": {
     "end_time": "2024-05-30T15:11:56.497086Z",
     "start_time": "2024-05-30T15:11:45.187766Z"
    },
    "collapsed": false
   },
   "outputs": [],
   "source": [
    "tempos = [get_tempo(model, x) for x in features_train]"
   ]
  },
  {
   "cell_type": "code",
   "execution_count": 159,
   "id": "ef3ab5da",
   "metadata": {},
   "outputs": [
    {
     "name": "stderr",
     "output_type": "stream",
     "text": [
      "100%|██████████| 50/50 [00:01<00:00, 35.13it/s]\n"
     ]
    }
   ],
   "source": [
    "wav_files_paths_test, _, _, _ = utils.load_dataset_paths(test_dataset_path, is_train_dataset=False)\n",
    "features_test, sample_rates_test = utils.preprocess_audio(wav_files_paths_test)\n",
    "onsets_test = [raw_onset_signal(model, x, mean, std) for x in features_test]\n",
    "tempos_tests = [get_tempo(model, x) for x in features_test]\n",
    "# beats = [estimate_beats(o, max(t, default=0), sr) for _, (o, t, sr) in enumerate(zip(onsets, tempos, sample_rates_train))]\n",
    "beats = []\n",
    "for _, (o, t) in enumerate(zip(onsets_test, tempos_tests)):\n",
    "    if len(t) != 0:\n",
    "        beat = estimate_beats(o, t[-1])\n",
    "        beats.append(beat)\n"
   ]
  },
  {
   "cell_type": "code",
   "execution_count": 160,
   "id": "ea7b3e4a3e689905",
   "metadata": {
    "ExecuteTime": {
     "end_time": "2024-05-30T15:12:01.911322Z",
     "start_time": "2024-05-30T15:12:01.904053Z"
    },
    "collapsed": false
   },
   "outputs": [],
   "source": [
    "pred = {}\n",
    "# wav_files_paths_train.remove(\"./data/train/ff123_bloodline.wav\")\n",
    "for beat, filename in zip(beats, wav_files_paths_test):\n",
    "    filename = filename.split('/')[-1].replace('.wav', '')\n",
    "    pred[filename] = {'beats': beat.tolist()}\n"
   ]
  },
  {
   "cell_type": "code",
   "execution_count": 161,
   "id": "c4769e2154392a48",
   "metadata": {
    "ExecuteTime": {
     "end_time": "2024-05-30T15:13:14.593656Z",
     "start_time": "2024-05-30T15:13:14.590635Z"
    },
    "collapsed": false
   },
   "outputs": [],
   "source": [
    "import json\n",
    "file_path = 'beats.json'\n",
    "\n",
    "# Open the file in write mode and save the dictionary\n",
    "with open(file_path, 'w') as f:\n",
    "    json.dump(pred, f, indent=4)"
   ]
  },
  {
   "cell_type": "code",
   "execution_count": 190,
   "id": "5f62e7698977622d",
   "metadata": {
    "ExecuteTime": {
     "end_time": "2024-05-30T15:10:49.004276Z",
     "start_time": "2024-05-30T15:10:49.001309Z"
    },
    "collapsed": false
   },
   "outputs": [],
   "source": [
    "def evaluate_tempo(predictions, targets):\n",
    "    sum_p_score = 0.\n",
    "    for target_key, target_value in targets.items():\n",
    "        if target_key in predictions:\n",
    "            annotations = target_value['tempo']\n",
    "            if len(annotations) == 1:\n",
    "                tempo = annotations[0]\n",
    "                reference_tempi = np.array([tempo / 2., tempo], dtype=float)\n",
    "                reference_weight = 0\n",
    "            elif len(annotations) == 3:\n",
    "                reference_tempi = np.array(annotations[0:2], dtype=float)\n",
    "                reference_weight = float(annotations[2])\n",
    "            else:\n",
    "                raise RuntimeError(f'tempo annotations are weird \"{annotations}\"')\n",
    "\n",
    "            # Ignore whatever comes after the first two estimated values\n",
    "            estimations = predictions[target_key]['tempo'][0:2]\n",
    "            if len(estimations) == 2:\n",
    "                # All fine\n",
    "                estimated_tempi = np.array(estimations, dtype=float)\n",
    "            elif len(estimations) == 1:\n",
    "                # If there's only one estimated tempo, prepend its half\n",
    "                tempo = estimations[0]\n",
    "                estimated_tempi = np.array([tempo / 2., tempo], dtype=float)\n",
    "            else:\n",
    "                raise RuntimeError(f'tempo estimations are weird \"{estimations}\"')\n",
    "\n",
    "            p_score, _, _ = mir_eval.tempo.detection(\n",
    "                reference_tempi,\n",
    "                reference_weight,\n",
    "                estimated_tempi,\n",
    "                tol=0.08\n",
    "            )\n",
    "        else:\n",
    "            p_score = 0.\n",
    "\n",
    "        sum_p_score += p_score\n",
    "\n",
    "    return sum_p_score / len(targets)"
   ]
  }
 ],
 "metadata": {
  "kernelspec": {
   "display_name": "Python 3",
   "language": "python",
   "name": "python3"
  },
  "language_info": {
   "codemirror_mode": {
    "name": "ipython",
    "version": 3
   },
   "file_extension": ".py",
   "mimetype": "text/x-python",
   "name": "python",
   "nbconvert_exporter": "python",
   "pygments_lexer": "ipython3",
   "version": "3.10.8"
  }
 },
 "nbformat": 4,
 "nbformat_minor": 5
}
