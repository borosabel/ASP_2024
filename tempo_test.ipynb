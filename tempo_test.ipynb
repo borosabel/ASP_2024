{
 "cells": [
  {
   "cell_type": "code",
   "execution_count": 22,
   "id": "initial_id",
   "metadata": {
    "collapsed": true,
    "ExecuteTime": {
     "end_time": "2024-06-17T15:06:04.709133Z",
     "start_time": "2024-06-17T15:06:04.702535Z"
    }
   },
   "outputs": [],
   "source": [
    "import utils as utils\n",
    "import importlib\n",
    "import data\n",
    "import pickle\n",
    "\n",
    "import torch as th\n",
    "import torch.nn as nn\n",
    "import torch.nn.functional as F\n",
    "\n",
    "importlib.reload(utils)\n",
    "importlib.reload(data)\n",
    "\n",
    "train_dataset_path = './data/tempo/train'\n",
    "test_dataset_path = './data/tempo/test'\n",
    "\n",
    "device = 'cuda' if th.cuda.is_available() else 'cpu'"
   ]
  },
  {
   "cell_type": "code",
   "execution_count": 12,
   "outputs": [],
   "source": [
    "# Model descrbied in the paper plus droput\n",
    "class OnsetDetectionCNN(nn.Module):\n",
    "    def __init__(self):\n",
    "        super(OnsetDetectionCNN, self).__init__()\n",
    "        self.conv1 = nn.Conv2d(3, 10, kernel_size=(3, 7))\n",
    "        self.pool1 = nn.MaxPool2d(kernel_size=(3, 1))\n",
    "        self.conv2 = nn.Conv2d(10, 20, kernel_size=(3, 3))\n",
    "        self.pool2 = nn.MaxPool2d(kernel_size=(3, 1))\n",
    "        self.fc1 = nn.Linear(20 * 7 * 8, 256)\n",
    "        self.fc2 = nn.Linear(256, 1)\n",
    "        self.dropout = nn.Dropout(0.5)\n",
    "        self.sigmoid = nn.Sigmoid()\n",
    "\n",
    "    def forward(self, x):\n",
    "        x = self.pool1(F.relu(self.conv1(x)))\n",
    "        x = self.pool2(F.relu(self.conv2(x)))\n",
    "        x = x.view(-1, 20 * 7 * 8)\n",
    "        x = self.dropout(F.relu(self.fc1(x)))  # Apply dropout\n",
    "        x = self.sigmoid(self.fc2(x))\n",
    "        return x\n",
    "\n",
    "# Initialize the model\n",
    "model = OnsetDetectionCNN()"
   ],
   "metadata": {
    "collapsed": false,
    "ExecuteTime": {
     "end_time": "2024-06-17T15:01:41.879849Z",
     "start_time": "2024-06-17T15:01:41.875568Z"
    }
   },
   "id": "ee6d44d06d4deacc"
  },
  {
   "cell_type": "code",
   "execution_count": 15,
   "outputs": [
    {
     "name": "stdout",
     "output_type": "stream",
     "text": [
      "cpu\n"
     ]
    }
   ],
   "source": [
    "device = 'cuda' if th.cuda.is_available() else 'cpu'\n",
    "print(device)"
   ],
   "metadata": {
    "collapsed": false,
    "ExecuteTime": {
     "end_time": "2024-06-17T15:01:49.282875Z",
     "start_time": "2024-06-17T15:01:49.277094Z"
    }
   },
   "id": "fe299c699e5ec0c2"
  },
  {
   "cell_type": "code",
   "execution_count": 16,
   "outputs": [],
   "source": [
    "model.load_state_dict(th.load('best_model.pth'))\n",
    "with open('mean_std.pkl', 'rb') as file:\n",
    "    data = pickle.load(file)\n",
    "mean = data['mean']\n",
    "std = data['std']"
   ],
   "metadata": {
    "collapsed": false,
    "ExecuteTime": {
     "end_time": "2024-06-17T15:01:50.764891Z",
     "start_time": "2024-06-17T15:01:50.756535Z"
    }
   },
   "id": "156c46b581688aa5"
  },
  {
   "cell_type": "code",
   "execution_count": 17,
   "outputs": [
    {
     "name": "stderr",
     "output_type": "stream",
     "text": [
      "100%|██████████| 50/50 [00:01<00:00, 34.51it/s]\n"
     ]
    }
   ],
   "source": [
    "# Load the paths and then split them into train and test set (validation set in our case for now).\n",
    "wav_files_paths_test, _, _, _ = utils.load_dataset_paths(test_dataset_path, is_train_dataset=False)\n",
    "features_test, sample_rates_test = utils.preprocess_audio(wav_files_paths_test)"
   ],
   "metadata": {
    "collapsed": false,
    "ExecuteTime": {
     "end_time": "2024-06-17T15:01:52.435514Z",
     "start_time": "2024-06-17T15:01:50.980878Z"
    }
   },
   "id": "bab8cb8a0949dc66"
  },
  {
   "cell_type": "code",
   "execution_count": 18,
   "outputs": [],
   "source": [
    "tempos = [utils.get_tempo(model, x, mean, std, device) for x in features_test]"
   ],
   "metadata": {
    "collapsed": false,
    "ExecuteTime": {
     "end_time": "2024-06-17T15:02:06.644606Z",
     "start_time": "2024-06-17T15:01:56.027667Z"
    }
   },
   "id": "f55eb660364f93af"
  },
  {
   "cell_type": "code",
   "execution_count": 20,
   "outputs": [],
   "source": [
    "pred = {}\n",
    "for tempo, filename in zip(tempos, wav_files_paths_test):\n",
    "    filename = filename.split('/')[-1].replace('.wav', '')\n",
    "    pred[filename] = {'tempo': tempo}"
   ],
   "metadata": {
    "collapsed": false,
    "ExecuteTime": {
     "end_time": "2024-06-17T15:05:19.307615Z",
     "start_time": "2024-06-17T15:05:19.305082Z"
    }
   },
   "id": "d385f0b0e90447eb"
  },
  {
   "cell_type": "code",
   "execution_count": 21,
   "outputs": [
    {
     "data": {
      "text/plain": "{'test48': {'tempo': [129.19921875, 103.359375]},\n 'test49': {'tempo': [79.50721153846153, 120.18531976744185]},\n 'test03': {'tempo': [99.38401442307692, 147.65625]},\n 'test17': {'tempo': [86.1328125, 172.265625]},\n 'test16': {'tempo': [86.1328125, 172.265625]},\n 'test02': {'tempo': [101.33272058823529, 151.99908088235293]},\n 'test14': {'tempo': [114.84375, 172.265625]},\n 'test28': {'tempo': [139.6748310810811, 103.359375]},\n 'test29': {'tempo': [68.90625, 103.359375]},\n 'test01': {'tempo': [68.90625, 135.99917763157896]},\n 'test15': {'tempo': [191.40625, 95.703125]},\n 'test39': {'tempo': [117.45383522727273, 156.60511363636363]},\n 'test11': {'tempo': [87.5926906779661, 178.20581896551724]},\n 'test05': {'tempo': [79.50721153846153, 120.18531976744185]},\n 'test04': {'tempo': [82.03125, 166.70866935483872]},\n 'test10': {'tempo': [198.76802884615384, 86.1328125]},\n 'test38': {'tempo': [64.599609375, 129.19921875]},\n 'test06': {'tempo': [132.51201923076923, 89.10290948275862]},\n 'test12': {'tempo': [63.02400914634146, 126.04801829268293]},\n 'test13': {'tempo': [61.5234375, 123.046875]},\n 'test07': {'tempo': [87.5926906779661, 172.265625]},\n 'test22': {'tempo': [114.84375, 172.265625]},\n 'test36': {'tempo': [64.599609375, 129.19921875]},\n 'test37': {'tempo': [92.28515625, 184.5703125]},\n 'test23': {'tempo': [95.703125, 191.40625]},\n 'test35': {'tempo': [93.96306818181819, 139.6748310810811]},\n 'test21': {'tempo': [86.1328125, 172.265625]},\n 'test09': {'tempo': [86.1328125, 172.265625]},\n 'test08': {'tempo': [64.599609375, 129.19921875]},\n 'test20': {'tempo': [86.1328125, 172.265625]},\n 'test34': {'tempo': [74.89809782608695, 112.34714673913044]},\n 'test18': {'tempo': [72.78829225352112, 84.72079918032787]},\n 'test30': {'tempo': [83.35433467741936, 123.046875]},\n 'test24': {'tempo': [65.41732594936708, 89.10290948275862]},\n 'test25': {'tempo': [67.11647727272727, 132.51201923076923]},\n 'test31': {'tempo': [117.45383522727273, 87.5926906779661]},\n 'test19': {'tempo': [89.10290948275862, 178.20581896551724]},\n 'test27': {'tempo': [129.19921875, 63.802083333333336]},\n 'test33': {'tempo': [74.89809782608695, 112.34714673913044]},\n 'test32': {'tempo': [99.38401442307692, 198.76802884615384]},\n 'test26': {'tempo': [68.90625, 103.359375]},\n 'test41': {'tempo': [172.265625, 86.1328125]},\n 'test40': {'tempo': [73.828125, 109.95678191489361]},\n 'test42': {'tempo': [132.51201923076923, 99.38401442307692]},\n 'test43': {'tempo': [66.25600961538461, 166.70866935483872]},\n 'test47': {'tempo': [63.02400914634146, 90.66611842105263]},\n 'test46': {'tempo': [92.28515625, 62.26468373493976]},\n 'test44': {'tempo': [109.95678191489361, 166.70866935483872]},\n 'test50': {'tempo': [63.802083333333336, 191.40625]},\n 'test45': {'tempo': [114.84375, 172.265625]}}"
     },
     "execution_count": 21,
     "metadata": {},
     "output_type": "execute_result"
    }
   ],
   "source": [
    "pred"
   ],
   "metadata": {
    "collapsed": false,
    "ExecuteTime": {
     "end_time": "2024-06-17T15:05:21.254907Z",
     "start_time": "2024-06-17T15:05:21.245604Z"
    }
   },
   "id": "fb75946a243463b"
  },
  {
   "cell_type": "code",
   "execution_count": null,
   "outputs": [],
   "source": [],
   "metadata": {
    "collapsed": false
   },
   "id": "3b54fe23f9206a24"
  }
 ],
 "metadata": {
  "kernelspec": {
   "display_name": "Python 3",
   "language": "python",
   "name": "python3"
  },
  "language_info": {
   "codemirror_mode": {
    "name": "ipython",
    "version": 2
   },
   "file_extension": ".py",
   "mimetype": "text/x-python",
   "name": "python",
   "nbconvert_exporter": "python",
   "pygments_lexer": "ipython2",
   "version": "2.7.6"
  }
 },
 "nbformat": 4,
 "nbformat_minor": 5
}
