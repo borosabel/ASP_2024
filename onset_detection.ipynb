{
 "cells": [
  {
   "cell_type": "code",
   "execution_count": 92,
   "id": "initial_id",
   "metadata": {
    "collapsed": true,
    "ExecuteTime": {
     "end_time": "2024-05-02T20:39:56.673554Z",
     "start_time": "2024-05-02T20:39:56.668093Z"
    }
   },
   "outputs": [],
   "source": [
    "import utility as utils\n",
    "import importlib\n",
    "import json\n",
    "\n",
    "importlib.reload(utils)\n",
    "\n",
    "train_dataset = '/Users/borosabel/Documents/Uni/SemesterIV/Audio Processing/ASP_2024/data/onset/train'\n",
    "test_dataset = '/Users/borosabel/Documents/Uni/SemesterIV/Audio Processing/ASP_2024/data/onset/test'"
   ]
  },
  {
   "cell_type": "code",
   "execution_count": 7,
   "outputs": [],
   "source": [
    "# wav_files_paths, beat_files_paths, onset_files_paths, tempo_files_paths = utils.load_dataset_paths(train_dataset)"
   ],
   "metadata": {
    "collapsed": false,
    "ExecuteTime": {
     "end_time": "2024-05-02T18:30:54.954218Z",
     "start_time": "2024-05-02T18:30:54.949333Z"
    }
   },
   "id": "944d0e1301954b5c"
  },
  {
   "cell_type": "code",
   "execution_count": 79,
   "outputs": [],
   "source": [
    "wav_files_paths, _, _, _ = utils.load_dataset_paths(test_dataset)"
   ],
   "metadata": {
    "collapsed": false,
    "ExecuteTime": {
     "end_time": "2024-05-02T20:31:35.068133Z",
     "start_time": "2024-05-02T20:31:35.065981Z"
    }
   },
   "id": "bf89a97c2eccf732"
  },
  {
   "cell_type": "code",
   "execution_count": 89,
   "outputs": [],
   "source": [
    "onsets = {}"
   ],
   "metadata": {
    "collapsed": false,
    "ExecuteTime": {
     "end_time": "2024-05-02T20:38:04.977362Z",
     "start_time": "2024-05-02T20:38:04.974558Z"
    }
   },
   "id": "9bd2e9719760ce4"
  },
  {
   "cell_type": "code",
   "execution_count": 90,
   "outputs": [],
   "source": [
    "for path in wav_files_paths:\n",
    "    file_name = path.split('/')[-1].replace('.wav', '')\n",
    "    onsets_list = utils.high_frequency_content(path)\n",
    "    onsets[file_name] = {'onsets': list(onsets_list)}"
   ],
   "metadata": {
    "collapsed": false,
    "ExecuteTime": {
     "end_time": "2024-05-02T20:38:05.869062Z",
     "start_time": "2024-05-02T20:38:05.107863Z"
    }
   },
   "id": "d979f69306778225"
  },
  {
   "cell_type": "code",
   "execution_count": 93,
   "outputs": [],
   "source": [
    "json_filename = 'onsets_data.json'\n",
    "with open(json_filename, 'w') as f:\n",
    "    json.dump(onsets, f, indent=4)"
   ],
   "metadata": {
    "collapsed": false,
    "ExecuteTime": {
     "end_time": "2024-05-02T20:40:04.973887Z",
     "start_time": "2024-05-02T20:40:04.961964Z"
    }
   },
   "id": "29861dc14f62039"
  },
  {
   "cell_type": "code",
   "execution_count": null,
   "outputs": [],
   "source": [],
   "metadata": {
    "collapsed": false
   },
   "id": "e77a60483c7b9ca5"
  }
 ],
 "metadata": {
  "kernelspec": {
   "display_name": "Python 3",
   "language": "python",
   "name": "python3"
  },
  "language_info": {
   "codemirror_mode": {
    "name": "ipython",
    "version": 2
   },
   "file_extension": ".py",
   "mimetype": "text/x-python",
   "name": "python",
   "nbconvert_exporter": "python",
   "pygments_lexer": "ipython2",
   "version": "2.7.6"
  }
 },
 "nbformat": 4,
 "nbformat_minor": 5
}
