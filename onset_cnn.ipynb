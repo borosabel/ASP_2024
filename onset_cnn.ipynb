{
 "cells": [
  {
   "cell_type": "code",
   "id": "initial_id",
   "metadata": {
    "collapsed": true,
    "ExecuteTime": {
     "end_time": "2024-05-12T15:01:42.703713Z",
     "start_time": "2024-05-12T15:01:42.614748Z"
    }
   },
   "source": [
    "import pandas as pd\n",
    "import utility as utils\n",
    "import importlib\n",
    "import numpy as np\n",
    "import librosa\n",
    "from tqdm import tqdm\n",
    "import numpy as np\n",
    "import mir_eval\n",
    "\n",
    "from sklearn.model_selection import train_test_split\n",
    "\n",
    "import tensorflow as tf\n",
    "from tensorflow.keras.models import Sequential\n",
    "from tensorflow.keras.layers import Conv2D, MaxPooling2D, Flatten, Dense, Dropout\n",
    "from tensorflow.keras.optimizers import SGD\n",
    "from tensorflow.keras.callbacks import Callback\n",
    "from tensorflow.keras.layers import Input\n",
    "\n",
    "importlib.reload(utils)\n",
    "\n",
    "train_dataset = '/Users/borosabel/Doc/Uni/4/ASP_2024/data/train'\n",
    "test_dataset = '/Users/borosabel/Doc/Uni/4/ASP_2024/data/test'"
   ],
   "outputs": [],
   "execution_count": 91
  },
  {
   "metadata": {
    "ExecuteTime": {
     "end_time": "2024-05-12T14:17:12.885963Z",
     "start_time": "2024-05-12T14:17:12.880602Z"
    }
   },
   "cell_type": "code",
   "source": [
    "def evaluate_loop(submission, target):\n",
    "    f, _, _ = mir_eval.onset.f_measure(\n",
    "        np.array(target),\n",
    "        np.array(submission),\n",
    "        window=0.05  # 50 [ms]\n",
    "    )\n",
    "    return f"
   ],
   "id": "175f1e870325f35f",
   "outputs": [],
   "execution_count": 82
  },
  {
   "metadata": {
    "ExecuteTime": {
     "end_time": "2024-05-12T12:40:36.388834Z",
     "start_time": "2024-05-12T12:40:36.212664Z"
    }
   },
   "cell_type": "code",
   "source": "df = utils.get_audio_and_onsets_in_dataframe(train_dataset)",
   "id": "4f3ff9f634db5a71",
   "outputs": [],
   "execution_count": 2
  },
  {
   "metadata": {
    "ExecuteTime": {
     "end_time": "2024-05-12T16:28:17.063885Z",
     "start_time": "2024-05-12T16:28:17.034593Z"
    }
   },
   "cell_type": "code",
   "source": [
    "def preprocess_audio(audio_path, sr=utils.SAMPLING_RATE, n_mels=80, fmin=27.5, fmax=16000):\n",
    "    y, _ = librosa.load(audio_path, sr=sr)  # Load audio file with the specified sampling rate\n",
    "    hop_length = int(sr * 0.01)  # 10 ms hop time\n",
    "    melspecs = []\n",
    "    \n",
    "    for window_size in [int(sr * 0.023), int(sr * 0.046), int(sr * 0.093)]:  # Window sizes: 23 ms, 46 ms, 93 ms\n",
    "        melspec = librosa.feature.melspectrogram(y=y, sr=sr, n_fft=window_size,\n",
    "                                                 hop_length=hop_length, n_mels=n_mels,\n",
    "                                                 fmin=fmin, fmax=fmax)\n",
    "        melspec = librosa.power_to_db(melspec, ref=np.max)  # Convert power spectrogram to decibel (dB) units\n",
    "        # Normalization - assume you have precomputed the mean and std for your dataset\n",
    "        melspec = (melspec - melspec.mean()) / melspec.std()  # Normalize using local mean and std\n",
    "        melspecs.append(melspec)\n",
    "\n",
    "    return melspecs\n",
    "\n",
    "def onsets_to_frames(onset_times, sr=utils.SAMPLING_RATE):\n",
    "    # Calculate frame duration in seconds\n",
    "    hop_length = int(sr * 0.01)\n",
    "    frame_duration = hop_length / sr\n",
    "    # Calculate frame indices for each onset time\n",
    "    frame_indices = [int(time / frame_duration) for time in onset_times]\n",
    "\n",
    "    # Assume maximum frame index to create the binary array\n",
    "    if frame_indices:\n",
    "        max_index = max(frame_indices)\n",
    "        onsets_binary = np.zeros(max_index + 1, dtype=int)  # +1 because indexing starts at 0\n",
    "        onsets_binary[frame_indices] = 1\n",
    "    else:\n",
    "        onsets_binary = np.array([])  # No onsets given\n",
    "    return onsets_binary\n",
    "\n",
    "def frames_to_onset(onset_binary, sr=utils.SAMPLING_RATE):\n",
    "    hop_length = int(sr * 0.01)  # Calculate hop length from sampling rate\n",
    "    frame_duration = hop_length / sr  # Calculate the duration of each frame in seconds\n",
    "\n",
    "    # Find indices where there is an onset\n",
    "    onset_indices = np.where(onset_binary == 1)[0]\n",
    "\n",
    "    # Convert frame indices to times\n",
    "    onset_times = onset_indices * frame_duration\n",
    "\n",
    "    return onset_times.tolist()  # Convert to list for convenience\n",
    "\n",
    "def prepare_data(audio_path, onset_times, sr=utils.SAMPLING_RATE, n_mels=80, fmin=27.5, fmax=16000):\n",
    "    # Generate Mel spectrograms\n",
    "    melspecs = preprocess_audio(audio_path, sr, n_mels, fmin, fmax)\n",
    "\n",
    "    # Convert onset times to frame indices\n",
    "    hop_length = int(sr * 0.01)\n",
    "    frame_indices = [int(time * sr / hop_length) for time in onset_times]\n",
    "    max_index = max(frame_indices, default=0)\n",
    "\n",
    "    # Prepare labels for each frame in the spectrogram\n",
    "    labels = np.zeros((max_index + 1,), dtype=int)\n",
    "    for index in frame_indices:\n",
    "        labels[index] = 1\n",
    "\n",
    "    return melspecs, labels\n",
    "\n",
    "\n",
    "def process_data(audio_paths, onset_times_list, sr=utils.SAMPLING_RATE, n_mels=80, fmin=27.5, fmax=16000):\n",
    "    all_features = []\n",
    "    all_labels = []\n",
    "\n",
    "    # Iterate through the lists with a tqdm progress bar\n",
    "    for audio_path, onset_times in tqdm(zip(audio_paths, onset_times_list), total=len(audio_paths), desc=\"Processing audio files\"):\n",
    "        # Prepare data from this file\n",
    "        features, labels = prepare_data(audio_path, onset_times, sr, n_mels, fmin, fmax)\n",
    "\n",
    "        # Aggregate the data\n",
    "        all_features.append(features)\n",
    "        all_labels.append(labels)\n",
    "\n",
    "    # Concatenate all data into arrays\n",
    "    all_features = np.concatenate(all_features, axis=0)\n",
    "    all_labels = np.concatenate(all_labels, axis=0)\n",
    "\n",
    "    return all_features, all_labels"
   ],
   "id": "86e5da29354e7ab7",
   "outputs": [],
   "execution_count": 143
  },
  {
   "metadata": {
    "ExecuteTime": {
     "end_time": "2024-05-12T15:37:19.237947Z",
     "start_time": "2024-05-12T15:37:19.114422Z"
    }
   },
   "cell_type": "code",
   "source": [
    "def create_specific_cnn(input_shape):\n",
    "    model = Sequential([\n",
    "        Input(shape=input_shape),  # Use an Input layer to specify the input shape\n",
    "        Conv2D(10, kernel_size=(7, 3), activation='tanh', padding='same'),\n",
    "        MaxPooling2D(pool_size=(1, 3), strides=(1, 3), padding='valid'),\n",
    "        Conv2D(20, kernel_size=(3, 3), activation='tanh', padding='same'),\n",
    "        MaxPooling2D(pool_size=(1, 3), strides=(1, 3), padding='valid'),\n",
    "        Flatten(),\n",
    "        Dense(256, activation='sigmoid'),\n",
    "        Dense(1, activation='sigmoid')\n",
    "    ])\n",
    "\n",
    "    optimizer = SGD(learning_rate=0.05, momentum=0.45)\n",
    "    model.compile(optimizer=optimizer, loss='binary_crossentropy', metrics=['accuracy'])\n",
    "    return model\n",
    "\n",
    "class MomentumScheduler(Callback):\n",
    "    def __init__(self, initial_momentum, ramp_up_epochs, max_momentum):\n",
    "        super().__init__()\n",
    "        self.initial_momentum = initial_momentum\n",
    "        self.ramp_up_epochs = ramp_up_epochs\n",
    "        self.max_momentum = max_momentum\n",
    "        self.steps_per_epoch = 0\n",
    "\n",
    "    def on_train_begin(self, logs=None):\n",
    "        self.steps_per_epoch = self.params['steps']  # Number of steps per epoch\n",
    "\n",
    "    def on_epoch_end(self, epoch, logs=None):\n",
    "        if epoch < self.ramp_up_epochs:\n",
    "            new_momentum = self.initial_momentum + (self.max_momentum - self.initial_momentum) * (epoch / self.ramp_up_epochs)\n",
    "            tf.keras.backend.set_value(self.model.optimizer.momentum, new_momentum)\n",
    "            print(f'Epoch {epoch+1}: Momentum updated to {new_momentum}')\n",
    "        else:\n",
    "            tf.keras.backend.set_value(self.model.optimizer.momentum, self.max_momentum)\n",
    "\n",
    "# Using the MomentumScheduler\n",
    "momentum_scheduler = MomentumScheduler(initial_momentum=0.45, ramp_up_epochs=10, max_momentum=0.9)\n",
    "\n",
    "# Input shape is 15 frames, 80 Mel bands, 3 channels\n",
    "input_shape = (15, 80, 3)\n",
    "model = create_specific_cnn(input_shape)\n",
    "model.summary()"
   ],
   "id": "519bc2c5e2c9f452",
   "outputs": [
    {
     "data": {
      "text/plain": [
       "\u001B[1mModel: \"sequential_5\"\u001B[0m\n"
      ],
      "text/html": [
       "<pre style=\"white-space:pre;overflow-x:auto;line-height:normal;font-family:Menlo,'DejaVu Sans Mono',consolas,'Courier New',monospace\"><span style=\"font-weight: bold\">Model: \"sequential_5\"</span>\n",
       "</pre>\n"
      ]
     },
     "metadata": {},
     "output_type": "display_data"
    },
    {
     "data": {
      "text/plain": [
       "┏━━━━━━━━━━━━━━━━━━━━━━━━━━━━━━━━━┳━━━━━━━━━━━━━━━━━━━━━━━━┳━━━━━━━━━━━━━━━┓\n",
       "┃\u001B[1m \u001B[0m\u001B[1mLayer (type)                   \u001B[0m\u001B[1m \u001B[0m┃\u001B[1m \u001B[0m\u001B[1mOutput Shape          \u001B[0m\u001B[1m \u001B[0m┃\u001B[1m \u001B[0m\u001B[1m      Param #\u001B[0m\u001B[1m \u001B[0m┃\n",
       "┡━━━━━━━━━━━━━━━━━━━━━━━━━━━━━━━━━╇━━━━━━━━━━━━━━━━━━━━━━━━╇━━━━━━━━━━━━━━━┩\n",
       "│ conv2d_10 (\u001B[38;5;33mConv2D\u001B[0m)              │ (\u001B[38;5;45mNone\u001B[0m, \u001B[38;5;34m15\u001B[0m, \u001B[38;5;34m80\u001B[0m, \u001B[38;5;34m10\u001B[0m)     │           \u001B[38;5;34m640\u001B[0m │\n",
       "├─────────────────────────────────┼────────────────────────┼───────────────┤\n",
       "│ max_pooling2d_10 (\u001B[38;5;33mMaxPooling2D\u001B[0m) │ (\u001B[38;5;45mNone\u001B[0m, \u001B[38;5;34m15\u001B[0m, \u001B[38;5;34m26\u001B[0m, \u001B[38;5;34m10\u001B[0m)     │             \u001B[38;5;34m0\u001B[0m │\n",
       "├─────────────────────────────────┼────────────────────────┼───────────────┤\n",
       "│ conv2d_11 (\u001B[38;5;33mConv2D\u001B[0m)              │ (\u001B[38;5;45mNone\u001B[0m, \u001B[38;5;34m15\u001B[0m, \u001B[38;5;34m26\u001B[0m, \u001B[38;5;34m20\u001B[0m)     │         \u001B[38;5;34m1,820\u001B[0m │\n",
       "├─────────────────────────────────┼────────────────────────┼───────────────┤\n",
       "│ max_pooling2d_11 (\u001B[38;5;33mMaxPooling2D\u001B[0m) │ (\u001B[38;5;45mNone\u001B[0m, \u001B[38;5;34m15\u001B[0m, \u001B[38;5;34m8\u001B[0m, \u001B[38;5;34m20\u001B[0m)      │             \u001B[38;5;34m0\u001B[0m │\n",
       "├─────────────────────────────────┼────────────────────────┼───────────────┤\n",
       "│ flatten_5 (\u001B[38;5;33mFlatten\u001B[0m)             │ (\u001B[38;5;45mNone\u001B[0m, \u001B[38;5;34m2400\u001B[0m)           │             \u001B[38;5;34m0\u001B[0m │\n",
       "├─────────────────────────────────┼────────────────────────┼───────────────┤\n",
       "│ dense_10 (\u001B[38;5;33mDense\u001B[0m)                │ (\u001B[38;5;45mNone\u001B[0m, \u001B[38;5;34m256\u001B[0m)            │       \u001B[38;5;34m614,656\u001B[0m │\n",
       "├─────────────────────────────────┼────────────────────────┼───────────────┤\n",
       "│ dense_11 (\u001B[38;5;33mDense\u001B[0m)                │ (\u001B[38;5;45mNone\u001B[0m, \u001B[38;5;34m1\u001B[0m)              │           \u001B[38;5;34m257\u001B[0m │\n",
       "└─────────────────────────────────┴────────────────────────┴───────────────┘\n"
      ],
      "text/html": [
       "<pre style=\"white-space:pre;overflow-x:auto;line-height:normal;font-family:Menlo,'DejaVu Sans Mono',consolas,'Courier New',monospace\">┏━━━━━━━━━━━━━━━━━━━━━━━━━━━━━━━━━┳━━━━━━━━━━━━━━━━━━━━━━━━┳━━━━━━━━━━━━━━━┓\n",
       "┃<span style=\"font-weight: bold\"> Layer (type)                    </span>┃<span style=\"font-weight: bold\"> Output Shape           </span>┃<span style=\"font-weight: bold\">       Param # </span>┃\n",
       "┡━━━━━━━━━━━━━━━━━━━━━━━━━━━━━━━━━╇━━━━━━━━━━━━━━━━━━━━━━━━╇━━━━━━━━━━━━━━━┩\n",
       "│ conv2d_10 (<span style=\"color: #0087ff; text-decoration-color: #0087ff\">Conv2D</span>)              │ (<span style=\"color: #00d7ff; text-decoration-color: #00d7ff\">None</span>, <span style=\"color: #00af00; text-decoration-color: #00af00\">15</span>, <span style=\"color: #00af00; text-decoration-color: #00af00\">80</span>, <span style=\"color: #00af00; text-decoration-color: #00af00\">10</span>)     │           <span style=\"color: #00af00; text-decoration-color: #00af00\">640</span> │\n",
       "├─────────────────────────────────┼────────────────────────┼───────────────┤\n",
       "│ max_pooling2d_10 (<span style=\"color: #0087ff; text-decoration-color: #0087ff\">MaxPooling2D</span>) │ (<span style=\"color: #00d7ff; text-decoration-color: #00d7ff\">None</span>, <span style=\"color: #00af00; text-decoration-color: #00af00\">15</span>, <span style=\"color: #00af00; text-decoration-color: #00af00\">26</span>, <span style=\"color: #00af00; text-decoration-color: #00af00\">10</span>)     │             <span style=\"color: #00af00; text-decoration-color: #00af00\">0</span> │\n",
       "├─────────────────────────────────┼────────────────────────┼───────────────┤\n",
       "│ conv2d_11 (<span style=\"color: #0087ff; text-decoration-color: #0087ff\">Conv2D</span>)              │ (<span style=\"color: #00d7ff; text-decoration-color: #00d7ff\">None</span>, <span style=\"color: #00af00; text-decoration-color: #00af00\">15</span>, <span style=\"color: #00af00; text-decoration-color: #00af00\">26</span>, <span style=\"color: #00af00; text-decoration-color: #00af00\">20</span>)     │         <span style=\"color: #00af00; text-decoration-color: #00af00\">1,820</span> │\n",
       "├─────────────────────────────────┼────────────────────────┼───────────────┤\n",
       "│ max_pooling2d_11 (<span style=\"color: #0087ff; text-decoration-color: #0087ff\">MaxPooling2D</span>) │ (<span style=\"color: #00d7ff; text-decoration-color: #00d7ff\">None</span>, <span style=\"color: #00af00; text-decoration-color: #00af00\">15</span>, <span style=\"color: #00af00; text-decoration-color: #00af00\">8</span>, <span style=\"color: #00af00; text-decoration-color: #00af00\">20</span>)      │             <span style=\"color: #00af00; text-decoration-color: #00af00\">0</span> │\n",
       "├─────────────────────────────────┼────────────────────────┼───────────────┤\n",
       "│ flatten_5 (<span style=\"color: #0087ff; text-decoration-color: #0087ff\">Flatten</span>)             │ (<span style=\"color: #00d7ff; text-decoration-color: #00d7ff\">None</span>, <span style=\"color: #00af00; text-decoration-color: #00af00\">2400</span>)           │             <span style=\"color: #00af00; text-decoration-color: #00af00\">0</span> │\n",
       "├─────────────────────────────────┼────────────────────────┼───────────────┤\n",
       "│ dense_10 (<span style=\"color: #0087ff; text-decoration-color: #0087ff\">Dense</span>)                │ (<span style=\"color: #00d7ff; text-decoration-color: #00d7ff\">None</span>, <span style=\"color: #00af00; text-decoration-color: #00af00\">256</span>)            │       <span style=\"color: #00af00; text-decoration-color: #00af00\">614,656</span> │\n",
       "├─────────────────────────────────┼────────────────────────┼───────────────┤\n",
       "│ dense_11 (<span style=\"color: #0087ff; text-decoration-color: #0087ff\">Dense</span>)                │ (<span style=\"color: #00d7ff; text-decoration-color: #00d7ff\">None</span>, <span style=\"color: #00af00; text-decoration-color: #00af00\">1</span>)              │           <span style=\"color: #00af00; text-decoration-color: #00af00\">257</span> │\n",
       "└─────────────────────────────────┴────────────────────────┴───────────────┘\n",
       "</pre>\n"
      ]
     },
     "metadata": {},
     "output_type": "display_data"
    },
    {
     "data": {
      "text/plain": [
       "\u001B[1m Total params: \u001B[0m\u001B[38;5;34m617,373\u001B[0m (2.36 MB)\n"
      ],
      "text/html": [
       "<pre style=\"white-space:pre;overflow-x:auto;line-height:normal;font-family:Menlo,'DejaVu Sans Mono',consolas,'Courier New',monospace\"><span style=\"font-weight: bold\"> Total params: </span><span style=\"color: #00af00; text-decoration-color: #00af00\">617,373</span> (2.36 MB)\n",
       "</pre>\n"
      ]
     },
     "metadata": {},
     "output_type": "display_data"
    },
    {
     "data": {
      "text/plain": [
       "\u001B[1m Trainable params: \u001B[0m\u001B[38;5;34m617,373\u001B[0m (2.36 MB)\n"
      ],
      "text/html": [
       "<pre style=\"white-space:pre;overflow-x:auto;line-height:normal;font-family:Menlo,'DejaVu Sans Mono',consolas,'Courier New',monospace\"><span style=\"font-weight: bold\"> Trainable params: </span><span style=\"color: #00af00; text-decoration-color: #00af00\">617,373</span> (2.36 MB)\n",
       "</pre>\n"
      ]
     },
     "metadata": {},
     "output_type": "display_data"
    },
    {
     "data": {
      "text/plain": [
       "\u001B[1m Non-trainable params: \u001B[0m\u001B[38;5;34m0\u001B[0m (0.00 B)\n"
      ],
      "text/html": [
       "<pre style=\"white-space:pre;overflow-x:auto;line-height:normal;font-family:Menlo,'DejaVu Sans Mono',consolas,'Courier New',monospace\"><span style=\"font-weight: bold\"> Non-trainable params: </span><span style=\"color: #00af00; text-decoration-color: #00af00\">0</span> (0.00 B)\n",
       "</pre>\n"
      ]
     },
     "metadata": {},
     "output_type": "display_data"
    }
   ],
   "execution_count": 108
  },
  {
   "metadata": {
    "ExecuteTime": {
     "end_time": "2024-05-12T16:27:31.369029Z",
     "start_time": "2024-05-12T16:27:31.279393Z"
    }
   },
   "cell_type": "code",
   "source": [
    "features = df['File Path']\n",
    "labels = df['Onsets']\n",
    "\n",
    "X_train, X_test, y_train, y_test = train_test_split(features, labels, test_size=0.33, random_state=42)\n",
    "X_train, X_val, y_train, y_val = train_test_split(X_train, y_train, test_size=0.2, random_state=42)"
   ],
   "id": "63df2f515fffafe2",
   "outputs": [],
   "execution_count": 141
  },
  {
   "metadata": {
    "ExecuteTime": {
     "end_time": "2024-05-12T16:30:17.715038Z",
     "start_time": "2024-05-12T16:28:22.263094Z"
    }
   },
   "cell_type": "code",
   "source": [
    "features_train, labels_train = process_data(X_train, y_train)\n",
    "features_test, labels_test = process_data(X_test, y_test)\n",
    "features_val, labels_val = process_data(X_val, y_val)"
   ],
   "id": "9b4e1f63fde92eee",
   "outputs": [
    {
     "name": "stderr",
     "output_type": "stream",
     "text": [
      "Processing audio files: 100%|██████████| 148/148 [01:55<00:00,  1.28it/s]\n"
     ]
    },
    {
     "ename": "ValueError",
     "evalue": "setting an array element with a sequence. The requested array has an inhomogeneous shape after 2 dimensions. The detected shape was (3, 80) + inhomogeneous part.",
     "output_type": "error",
     "traceback": [
      "\u001B[0;31m---------------------------------------------------------------------------\u001B[0m",
      "\u001B[0;31mValueError\u001B[0m                                Traceback (most recent call last)",
      "Cell \u001B[0;32mIn[144], line 1\u001B[0m\n\u001B[0;32m----> 1\u001B[0m features_train, labels_train \u001B[38;5;241m=\u001B[39m \u001B[43mprocess_data\u001B[49m\u001B[43m(\u001B[49m\u001B[43mX_train\u001B[49m\u001B[43m,\u001B[49m\u001B[43m \u001B[49m\u001B[43my_train\u001B[49m\u001B[43m)\u001B[49m\n\u001B[1;32m      2\u001B[0m features_test, labels_test \u001B[38;5;241m=\u001B[39m process_data(X_test, y_test)\n\u001B[1;32m      3\u001B[0m features_val, labels_val \u001B[38;5;241m=\u001B[39m process_data(X_val, y_val)\n",
      "Cell \u001B[0;32mIn[143], line 76\u001B[0m, in \u001B[0;36mprocess_data\u001B[0;34m(audio_paths, onset_times_list, sr, n_mels, fmin, fmax)\u001B[0m\n\u001B[1;32m     73\u001B[0m     all_labels\u001B[38;5;241m.\u001B[39mappend(labels)\n\u001B[1;32m     75\u001B[0m \u001B[38;5;66;03m# Concatenate all data into arrays\u001B[39;00m\n\u001B[0;32m---> 76\u001B[0m all_features \u001B[38;5;241m=\u001B[39m \u001B[43mnp\u001B[49m\u001B[38;5;241;43m.\u001B[39;49m\u001B[43mconcatenate\u001B[49m\u001B[43m(\u001B[49m\u001B[43mall_features\u001B[49m\u001B[43m,\u001B[49m\u001B[43m \u001B[49m\u001B[43maxis\u001B[49m\u001B[38;5;241;43m=\u001B[39;49m\u001B[38;5;241;43m0\u001B[39;49m\u001B[43m)\u001B[49m\n\u001B[1;32m     77\u001B[0m all_labels \u001B[38;5;241m=\u001B[39m np\u001B[38;5;241m.\u001B[39mconcatenate(all_labels, axis\u001B[38;5;241m=\u001B[39m\u001B[38;5;241m0\u001B[39m)\n\u001B[1;32m     79\u001B[0m \u001B[38;5;28;01mreturn\u001B[39;00m all_features, all_labels\n",
      "\u001B[0;31mValueError\u001B[0m: setting an array element with a sequence. The requested array has an inhomogeneous shape after 2 dimensions. The detected shape was (3, 80) + inhomogeneous part."
     ]
    }
   ],
   "execution_count": 144
  },
  {
   "metadata": {},
   "cell_type": "code",
   "outputs": [],
   "execution_count": null,
   "source": [
    "history = model.fit(\n",
    "    features_train,\n",
    "    labels_train,\n",
    "    epochs=100,  # Number of epochs to train for\n",
    "    batch_size=256,  # Batch size for the training\n",
    "    validation_data=(features_val, labels_val),  # Validation data to evaluate the model\n",
    "    verbose=1  # Show detailed progress during training\n",
    ")"
   ],
   "id": "725e8ac3f26c1b2d"
  }
 ],
 "metadata": {
  "kernelspec": {
   "display_name": "Python 3",
   "language": "python",
   "name": "python3"
  },
  "language_info": {
   "codemirror_mode": {
    "name": "ipython",
    "version": 2
   },
   "file_extension": ".py",
   "mimetype": "text/x-python",
   "name": "python",
   "nbconvert_exporter": "python",
   "pygments_lexer": "ipython2",
   "version": "2.7.6"
  }
 },
 "nbformat": 4,
 "nbformat_minor": 5
}
